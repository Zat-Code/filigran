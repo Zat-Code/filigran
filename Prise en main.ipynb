{
 "cells": [
  {
   "cell_type": "markdown",
   "metadata": {},
   "source": [
    "# Extraire du texte d'un PDF"
   ]
  },
  {
   "cell_type": "code",
   "execution_count": 1,
   "metadata": {},
   "outputs": [],
   "source": [
    "import requests\n",
    "\n",
    "url = 'https://raw.githubusercontent.com/jsvine/pdfplumber/stable/examples/pdfs/background-checks.pdf'\n",
    "r = requests.get(url)\n",
    "\n",
    "with open('example.pdf', 'wb') as f:\n",
    "    f.write(r.content)"
   ]
  },
  {
   "cell_type": "code",
   "execution_count": 2,
   "metadata": {},
   "outputs": [
    {
     "name": "stdout",
     "output_type": "stream",
     "text": [
      "NICS Firearm Background Checks\n",
      "November - 2015\n",
      "Pre-Pawn Redemption Returned/Disposition Rentals Private Sale Return to Seller - Private Sale\n",
      "State / Territory Permit Handgun Long Gun *Other **Multiple Admin Handgun Long Gun *Other Handgun Long Gun *Other Handgun Long Gun *Other Handgun Long Gun Handgun Long Gun *Other Handgun Long Gun *Other Totals\n",
      "Alabama 18,870 23,022 22,650 859 1,178 0 14 15 0 2,179 2,307 11 0 0 0 13 14 0 3 2 0 71,137\n",
      "Alaska 209 3,062 3,209 191 184 0 9 3 0 100 100 0 18 9 1 0 0 0 0 0 0 7,095\n",
      "Arizona 2,303 12,382 9,041 707 618 0 5 3 0 1,273 648 4 76 8 1 9 6 1 1 1 0 27,087\n",
      "Arkansas 3,298 6,359 11,611 168 376 0 12 6 1 922 2,275 1 0 0 0 6 12 1 0 0 0 25,048\n",
      "California 98452 41181 35007 4559 0 0 0 0 0 480 433 4 0 0 0 0 0 0 0 0 0 180116\n",
      "Colorado 4,144 19,784 16,082 932 1,151 0 0 0 0 0 0 0 144 34 0 0 0 0 0 0 0 42,271\n",
      "Connecticut 9,631 11,594 5,072 134 0 7 0 0 0 0 0 0 0 0 0 0 0 0 0 0 0 26,438\n",
      "Delaware 204 2,152 2,424 65 72 0 3 4 0 17 12 0 0 0 0 59 24 0 4 0 0 5,040\n",
      "District of Columbia 8 54 2 0 0 0 0 0 0 0 0 0 0 0 0 0 0 0 0 0 0 64\n",
      "Florida 15,907 50,796 28,981 2,268 1,957 121 8 9 0 2,248 1,135 2 40 5 0 36 19 0 0 0 0 103,532\n",
      "Georgia 14,111 16,635 15,227 448 758 0 10 14 0 1,772 1,796 4 0 0 0 10 9 1 0 0 0 50,795\n",
      "Guam 0 100 55 12 3 0 0 0 0 1 0 0 0 0 0 0 0 0 0 0 0 171\n",
      "Hawaii 1,248 0 0 0 0 0 0 0 0 0 0 0 1 3 0 0 0 0 0 0 0 1,252\n",
      "Idaho 1,944 3,609 5,227 190 189 0 0 4 0 273 455 1 22 4 1 1 2 0 0 3 0 11,925\n",
      "Illinois 87,190 24,412 17,227 0 1,032 0 0 0 0 0 0 0 0 0 0 0 0 0 0 0 0 129,861\n",
      "Indiana 81,935 25,519 20,227 1,113 808 0 2 3 0 13 629 5 28 0 0 31 13 1 2 4 0 130,333\n",
      "Iowa 8,785 267 4,596 27 4 37 0 1 0 0 71 0 4 2 0 0 0 0 0 0 0 13,794\n",
      "Kansas 894 7,086 8,702 311 396 3 1 3 1 486 530 2 2 0 0 6 10 0 0 0 0 18,433\n",
      "Kentucky 264,140 12,155 14,847 254 648 1 9 11 0 1,491 2,315 2 2 2 0 6 8 0 0 0 0 295,891\n",
      "Louisiana 1,945 14,708 17,368 697 793 0 5 11 2 884 1,323 3 0 0 0 1 10 1 0 1 0 37,752\n",
      "Maine 299 4,048 4,387 135 171 2 0 0 0 70 165 0 6 7 0 4 3 0 0 0 0 9,297\n",
      "Mariana Islands 0 0 0 0 0 0 0 0 0 0 0 0 0 0 0 0 0 0 0 0 0 0\n",
      "Maryland 1,512 3,220 8,310 96 9 0 0 3 0 72 213 2 14 3 1 1 6 1 0 0 0 13,463\n",
      "Massachusetts 5,214 6,083 3,931 402 175 0 0 1 0 2 5 0 1 0 1 42 23 5 0 0 0 15,885\n",
      "Michigan 16,786 13,634 17,604 385 238 1,025 1 4 0 5 489 2 69 24 0 4 1 1 2 3 1 50,278\n",
      "Minnesota 18,939 9,373 14,173 486 330 0 1 2 0 176 512 0 8 11 0 2 6 0 0 2 2 44,023\n",
      "Mississippi 618 9,785 13,191 267 523 9 28 20 0 1,171 1,874 1 0 0 0 6 6 3 2 0 0 27,504\n",
      "Missouri 5,884 21,135 22,852 1,004 1,060 0 11 16 0 1,131 1,754 3 99 11 4 33 25 6 0 3 0 55,031\n",
      "Montana 852 2,848 5,170 90 197 10 1 4 6 391 828 1 11 4 0 0 2 0 0 0 0 10,415\n",
      "Nebraska 4,258 173 3,724 23 10 0 1 0 0 5 96 1 7 0 0 0 0 1 0 0 0 8,299\n",
      "Nevada 1,543 4,889 3,272 193 287 0 0 0 0 284 163 0 1 0 0 0 0 0 0 0 0 10,632\n",
      "New Hampshire 3,630 4,847 4,165 95 2 1 0 0 0 0 23 1 69 11 1 2 2 0 0 1 0 12,850\n",
      "New Jersey 0 3,462 4,704 147 0 0 0 0 0 0 0 0 0 0 0 0 0 0 0 0 0 8,313\n",
      "New Mexico 829 5,247 4,974 334 277 0 2 3 1 397 618 1 33 0 0 0 4 0 1 0 0 12,721\n",
      "New York 2,906 8,650 23,519 665 149 0 0 3 0 16 25 0 0 0 0 243 220 16 5 4 0 36,421\n",
      "North Carolina 22,469 1,370 20,107 576 202 0 16 25 0 1,771 2,644 7 0 0 0 2 26 1 1 0 0 49,217\n",
      "North Dakota 453 1,720 3,744 65 79 0 0 3 0 65 157 0 0 0 0 1 1 0 0 0 0 6,288\n",
      "Ohio 9,338 34,878 31,817 1,392 1,483 0 24 16 1 1,228 1,389 4 0 0 0 21 22 1 1 0 1 81,616\n",
      "Oklahoma 0 15,005 14,753 778 998 0 11 7 1 1,639 2,226 6 0 0 0 11 21 0 0 1 0 35,457\n",
      "Oregon 35 13,586 11,832 0 0 0 0 0 0 0 0 0 0 0 0 0 0 0 0 0 0 25,453\n",
      "Pennsylvania 24,136 62,752 16,297 0 0 58 0 0 0 0 0 0 446 147 0 0 0 0 0 0 0 103,836\n",
      "Puerto Rico 0 1,033 170 11 20 0 0 0 0 6 1 0 0 0 0 0 0 0 0 1 0 1,242\n",
      "Rhode Island 0 954 932 57 135 0 0 0 0 3 4 0 0 0 0 12 2 1 1 0 0 2,101\n",
      "South Carolina 7,284 11,452 10,393 561 438 0 3 8 0 979 912 3 16 4 0 4 6 0 1 0 0 32,064\n",
      "South Dakota 819 2,765 5,484 143 151 0 0 1 0 123 239 0 0 0 0 1 1 0 0 0 0 9,727\n",
      "Tennessee 9,509 28,815 24,023 0 1,300 0 0 0 0 0 0 0 17 1 5 0 0 0 0 0 0 63,670\n",
      "Texas 21,550 56,941 51,670 2,532 3,048 0 29 20 0 5,748 5,331 21 1 2 1 42 36 4 1 5 0 146,982\n",
      "Utah 10,429 4,314 5,857 195 262 0 0 1 0 209 285 1 140 58 21 0 0 0 0 0 0 21,772\n",
      "Vermont 0 1,189 1,826 49 70 0 0 1 0 0 1 0 0 0 0 0 0 0 0 0 0 3,136\n",
      "Virgin Islands 93 13 2 0 1 0 0 0 0 0 0 0 0 0 0 0 0 0 0 0 0 109\n",
      "Virginia 622 24,052 22,348 974 0 0 0 0 0 0 0 0 10 4 0 0 0 0 0 0 0 48,010\n",
      "Washington 10,314 15,822 12,425 1,238 606 4 8 8 0 1,096 1,129 3 356 159 3 444 340 19 6 9 0 43,989\n",
      "West Virginia 2,217 6,953 11,561 224 478 2 4 9 0 923 2,678 3 0 0 0 3 8 0 0 0 0 25,063\n",
      "Wisconsin 5,867 13,700 17,759 458 45 0 0 3 0 124 513 3 15 20 4 10 15 1 0 3 1 38,541\n",
      "Wyoming 383 1,745 2,372 87 104 1 0 4 0 132 184 0 0 0 0 1 2 0 0 2 0 5,017\n",
      "Totals 804,006 671,330 636,903 26,597 23,015 1,281 218 249 13 29,905 38,487 102 1,656 533 44 0 0 1,067 905 65 31 45 5 2,236,457\n",
      "*Refers to frames, receivers and other firearms that are not either handguns or long guns (rifles or shotguns), such as firearms having a pistol grip that expel a shotgun shell\n",
      "NOTES:\n",
      "**Multiple (multiple types of firearms selected)\n",
      "Some states may reflect lower than expected numbers for handgun checks based on varying state laws pertaining to handgun permits Since the permit check is done in place of the NICS check in most of the affected states, the low handgun statistics are often balanced out by a higher number of handgun permit checks\n",
      "DISCLAIMERS:\n",
      "These statistics represent the number of firearm background checks initiated through the NICS They do not represent the number of firearms sold Based on varying state laws and purchase scenarios, a one-to-one correlation cannot be made between a firearm background check and a firearm sale\n",
      "Page 1 of 205\n"
     ]
    }
   ],
   "source": [
    "import pdfplumber\n",
    "\n",
    "with pdfplumber.open(\"example.pdf\") as pdf:\n",
    "    first_page = pdf.pages[0]\n",
    "    print(first_page.extract_text())"
   ]
  },
  {
   "cell_type": "markdown",
   "metadata": {},
   "source": [
    "# Visualisation d'entités"
   ]
  },
  {
   "cell_type": "code",
   "execution_count": 3,
   "metadata": {},
   "outputs": [],
   "source": [
    "from spacy import displacy"
   ]
  },
  {
   "cell_type": "code",
   "execution_count": 4,
   "metadata": {},
   "outputs": [
    {
     "data": {
      "text/html": [
       "<span class=\"tex2jax_ignore\"><div class=\"entities\" style=\"line-height: 2.5; direction: ltr\">In November 16,  Google Threat Analysis Group  (TAG)  reported  that a vulnerability tracked as \n",
       "<mark class=\"entity\" style=\"background: #85C1E9; padding: 0.45em 0.6em; margin: 0 0.25em; line-height: 1; border-radius: 0.35em;\">\n",
       "     CVE-2023-3758\n",
       "    <span style=\"font-size: 0.8em; font-weight: bold; line-height: 1; border-radius: 0.35em; vertical-align: middle; margin-left: 0.5rem\">Vulnerability</span>\n",
       "</mark>\n",
       "0  ( link  to advisory) affecting the popular  Zimbra  Collaboration email software has been exploited by\n",
       "<mark class=\"entity\" style=\"background: #ff6961; padding: 0.45em 0.6em; margin: 0 0.25em; line-height: 1; border-radius: 0.35em;\">\n",
       "     APT28\n",
       "    <span style=\"font-size: 0.8em; font-weight: bold; line-height: 1; border-radius: 0.35em; vertical-align: middle; margin-left: 0.5rem\">Intrusion Set</span>\n",
       "</mark>\n",
       "</div></span>"
      ],
      "text/plain": [
       "<IPython.core.display.HTML object>"
      ]
     },
     "metadata": {},
     "output_type": "display_data"
    }
   ],
   "source": [
    "dic_ents = {\n",
    "    \"text\": \"In November 16,  Google Threat Analysis Group  (TAG)  reported  that a vulnerability tracked as  CVE-2023-37580  ( link  to advisory) affecting the popular  Zimbra  Collaboration email software has been exploited by APT28\",\n",
    "    \"ents\": [\n",
    "        {\"start\": 96, \"end\": 110, \"label\": \"Vulnerability\"},\n",
    "        {\"start\": 215, \"end\": 228, \"label\": \"Intrusion Set\"},\n",
    "    ],\n",
    "    \"title\": None\n",
    "}\n",
    "COLORS = {'Vulnerability': \"#85C1E9\", \"Intrusion Set\": \"#ff6961\"}\n",
    "\n",
    "displacy.render(dic_ents, manual=True, style=\"ent\", options={\"colors\":COLORS})"
   ]
  },
  {
   "cell_type": "markdown",
   "metadata": {},
   "source": []
  },
  {
   "cell_type": "markdown",
   "metadata": {},
   "source": [
    "# Extraction"
   ]
  },
  {
   "cell_type": "code",
   "execution_count": 5,
   "metadata": {},
   "outputs": [
    {
     "name": "stderr",
     "output_type": "stream",
     "text": [
      "C:\\Users\\benja\\AppData\\Roaming\\Python\\Python312\\site-packages\\tqdm\\auto.py:21: TqdmWarning: IProgress not found. Please update jupyter and ipywidgets. See https://ipywidgets.readthedocs.io/en/stable/user_install.html\n",
      "  from .autonotebook import tqdm as notebook_tqdm\n"
     ]
    }
   ],
   "source": [
    "from gliner import GLiNER"
   ]
  },
  {
   "cell_type": "code",
   "execution_count": 6,
   "metadata": {},
   "outputs": [
    {
     "name": "stderr",
     "output_type": "stream",
     "text": [
      "Fetching 4 files: 100%|██████████| 4/4 [00:00<00:00, 7989.15it/s]\n",
      "C:\\Users\\benja\\AppData\\Roaming\\Python\\Python312\\site-packages\\transformers\\convert_slow_tokenizer.py:561: UserWarning: The sentencepiece tokenizer that you are converting to a fast tokenizer uses the byte fallback option which is not implemented in the fast tokenizers. In practice this means that the fast version of the tokenizer can produce unknown tokens whereas the sentencepiece version would have converted these unknown tokens into a sequence of byte tokens matching the original piece of text.\n",
      "  warnings.warn(\n"
     ]
    }
   ],
   "source": [
    "model = GLiNER.from_pretrained(\"urchade/gliner_small-v2.1\")"
   ]
  },
  {
   "cell_type": "code",
   "execution_count": 7,
   "metadata": {},
   "outputs": [],
   "source": [
    "text = \"In 2017, Wannacry was responsible for the ciphering of more than 200 000 computers\""
   ]
  },
  {
   "cell_type": "code",
   "execution_count": 8,
   "metadata": {},
   "outputs": [
    {
     "name": "stderr",
     "output_type": "stream",
     "text": [
      "Asking to truncate to max_length but no maximum length is provided and the model has no predefined maximum length. Default to no truncation.\n"
     ]
    },
    {
     "data": {
      "text/plain": [
       "[{'start': 9,\n",
       "  'end': 17,\n",
       "  'text': 'Wannacry',\n",
       "  'label': 'Malware',\n",
       "  'score': 0.9420226216316223}]"
      ]
     },
     "execution_count": 8,
     "metadata": {},
     "output_type": "execute_result"
    }
   ],
   "source": [
    "model.predict_entities(text, labels =['Malware'])"
   ]
  }
 ],
 "metadata": {
  "kernelspec": {
   "display_name": "Python 3",
   "language": "python",
   "name": "python3"
  },
  "language_info": {
   "codemirror_mode": {
    "name": "ipython",
    "version": 3
   },
   "file_extension": ".py",
   "mimetype": "text/x-python",
   "name": "python",
   "nbconvert_exporter": "python",
   "pygments_lexer": "ipython3",
   "version": "3.12.4"
  }
 },
 "nbformat": 4,
 "nbformat_minor": 4
}
